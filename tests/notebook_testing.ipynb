{
 "cells": [
  {
   "cell_type": "code",
   "execution_count": 1,
   "id": "bb83b832",
   "metadata": {},
   "outputs": [],
   "source": [
    "import boto3\n",
    "import pandas as pd \n",
    "import io\n",
    "import sys\n",
    "sys.path.append(\"../\")\n",
    "# from src.scripts import extraction as ex\n",
    "# from src.scripts import transactions_and_baskets as tb\n",
    "bucket = 'team-yogurt-cleaned-data'\n",
    "key = '2022/7/8/birmingham_cleaned_08-07-2022_09-00-00.csv'\n",
    "s3 = boto3.client('s3',\n",
    "    aws_access_key_id=\"\",\n",
    "    aws_secret_access_key=\"\",\n",
    "    aws_session_token=\"\")\n",
    "response= s3.get_object(Bucket=bucket, Key=key)"
   ]
  },
  {
   "cell_type": "code",
   "execution_count": 2,
   "id": "9a39a7d4",
   "metadata": {},
   "outputs": [],
   "source": [
    "\n",
    "file = response['Body']\n",
    "data = file.read().decode('utf-8')\n",
    "df = pd.read_csv(io.StringIO(data))"
   ]
  },
  {
   "cell_type": "code",
   "execution_count": 3,
   "id": "f4bfff55",
   "metadata": {
    "scrolled": false
   },
   "outputs": [
    {
     "name": "stdout",
     "output_type": "stream",
     "text": [
      "customer DF OK\n",
      "location DF OK\n",
      "cards DF OK\n",
      "Products DF OK\n",
      "Names inserted OK\n",
      "Cards inserted OK\n",
      "Stores inserted OK\n",
      "no new products\n"
     ]
    }
   ],
   "source": [
    "# df = ex.clean_the_data(df)\n",
    "# ex.etl(df)\n",
    "# tb.insert_transactions(df)"
   ]
  },
  {
   "cell_type": "code",
   "execution_count": null,
   "id": "cf73fca3",
   "metadata": {},
   "outputs": [],
   "source": []
  },
  {
   "cell_type": "code",
   "execution_count": null,
   "id": "1b62653d",
   "metadata": {},
   "outputs": [],
   "source": []
  }
 ],
 "metadata": {
  "kernelspec": {
   "display_name": "Python 3 (ipykernel)",
   "language": "python",
   "name": "python3"
  },
  "language_info": {
   "codemirror_mode": {
    "name": "ipython",
    "version": 3
   },
   "file_extension": ".py",
   "mimetype": "text/x-python",
   "name": "python",
   "nbconvert_exporter": "python",
   "pygments_lexer": "ipython3",
   "version": "3.10.4"
  },
  "vscode": {
   "interpreter": {
    "hash": "237c44dc5d59972724749e62e03a703d8c3cf5430bdd73775ef197d62f39a21a"
   }
  }
 },
 "nbformat": 4,
 "nbformat_minor": 5
}
