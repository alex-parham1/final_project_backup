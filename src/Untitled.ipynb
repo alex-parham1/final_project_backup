{
 "cells": [
  {
   "cell_type": "code",
   "execution_count": 1,
   "id": "1bf4ad89",
   "metadata": {},
   "outputs": [
    {
     "name": "stdout",
     "output_type": "stream",
     "text": [
      "(539, 7)\n",
      "                    DATE       LOCATION    CUSTOMER NAME  \\\n",
      "527  2021-02-23 17:48:27  Isle of Wight      Joyce Harne   \n",
      "64   2021-02-23 10:05:32  Isle of Wight   Anthony Rogers   \n",
      "446  2021-02-23 16:27:38  Isle of Wight      Kathy Brown   \n",
      "288  2021-02-23 13:49:50  Isle of Wight   Jonathan Brown   \n",
      "248  2021-02-23 13:09:39  Isle of Wight  Michael Hartley   \n",
      "\n",
      "                                              PRODUCTS PAYMENT METHOD  TOTAL  \\\n",
      "527  Large,Cappuccino,2.45,,Speciality Tea - Fruit,...           CARD  10.30   \n",
      "64   ,Flavoured iced latte - Vanilla,2.75,,Red Labe...           CASH   6.65   \n",
      "446  Large,Flavoured latte - Caramel,2.85,,Frappes ...           CASH   9.25   \n",
      "288               ,Flavoured iced latte - Caramel,2.75           CARD   2.75   \n",
      "248  Regular,Flavoured latte - Vanilla,2.55,,Iced l...           CASH  12.25   \n",
      "\n",
      "                            CARD  \n",
      "527  mastercard,5264451946735169  \n",
      "64                          None  \n",
      "446                         None  \n",
      "288         visa13,4975299262856  \n",
      "248                         None  \n"
     ]
    }
   ],
   "source": [
    "import pandas as pd \n",
    "import pandas_profiling\n",
    "import os \n",
    "\n",
    "def get_data_frame():\n",
    "    df = pd.DataFrame()\n",
    "    for filename in os.listdir('../data'):\n",
    "        temp_df = pd.read_csv(f'../data/{filename}')\n",
    "        df = pd.concat([df, temp_df], axis=0)\n",
    "    return df\n",
    "\n",
    "df = get_data_frame()\n",
    "df.columns = ['DATE', 'LOCATION', 'CUSTOMER NAME', 'PRODUCTS', 'PAYMENT METHOD', 'TOTAL', 'CARD']\n",
    "df.reset_index()\n",
    "print(df.shape)\n",
    "print(df.sample(5))"
   ]
  },
  {
   "cell_type": "code",
   "execution_count": 2,
   "id": "e026fab6",
   "metadata": {},
   "outputs": [
    {
     "data": {
      "text/html": [
       "<div>\n",
       "<style scoped>\n",
       "    .dataframe tbody tr th:only-of-type {\n",
       "        vertical-align: middle;\n",
       "    }\n",
       "\n",
       "    .dataframe tbody tr th {\n",
       "        vertical-align: top;\n",
       "    }\n",
       "\n",
       "    .dataframe thead th {\n",
       "        text-align: right;\n",
       "    }\n",
       "</style>\n",
       "<table border=\"1\" class=\"dataframe\">\n",
       "  <thead>\n",
       "    <tr style=\"text-align: right;\">\n",
       "      <th></th>\n",
       "      <th>DATE</th>\n",
       "      <th>LOCATION</th>\n",
       "      <th>CUSTOMER NAME</th>\n",
       "      <th>PRODUCTS</th>\n",
       "      <th>PAYMENT METHOD</th>\n",
       "      <th>TOTAL</th>\n",
       "      <th>CARD</th>\n",
       "    </tr>\n",
       "  </thead>\n",
       "  <tbody>\n",
       "    <tr>\n",
       "      <th>18</th>\n",
       "      <td>2021-02-23 09:19:27</td>\n",
       "      <td>Isle of Wight</td>\n",
       "      <td>Amanda Parkinson</td>\n",
       "      <td>Large,Flavoured latte - Caramel,2.85,Large,Lat...</td>\n",
       "      <td>CARD</td>\n",
       "      <td>5.3</td>\n",
       "      <td>visa16,4668669235933261</td>\n",
       "    </tr>\n",
       "  </tbody>\n",
       "</table>\n",
       "</div>"
      ],
      "text/plain": [
       "                   DATE       LOCATION     CUSTOMER NAME  \\\n",
       "18  2021-02-23 09:19:27  Isle of Wight  Amanda Parkinson   \n",
       "\n",
       "                                             PRODUCTS PAYMENT METHOD  TOTAL  \\\n",
       "18  Large,Flavoured latte - Caramel,2.85,Large,Lat...           CARD    5.3   \n",
       "\n",
       "                       CARD  \n",
       "18  visa16,4668669235933261  "
      ]
     },
     "execution_count": 2,
     "metadata": {},
     "output_type": "execute_result"
    }
   ],
   "source": [
    "df.sample()"
   ]
  },
  {
   "cell_type": "code",
   "execution_count": 3,
   "id": "aa9cf0b7",
   "metadata": {},
   "outputs": [
    {
     "data": {
      "application/vnd.jupyter.widget-view+json": {
       "model_id": "29446a39f9654332a465c48d1a7678c1",
       "version_major": 2,
       "version_minor": 0
      },
      "text/plain": [
       "Summarize dataset:   0%|          | 0/5 [00:00<?, ?it/s]"
      ]
     },
     "metadata": {},
     "output_type": "display_data"
    },
    {
     "data": {
      "application/vnd.jupyter.widget-view+json": {
       "model_id": "e3ea42615ba3495bbf5cca981cccabc2",
       "version_major": 2,
       "version_minor": 0
      },
      "text/plain": [
       "Generate report structure:   0%|          | 0/1 [00:00<?, ?it/s]"
      ]
     },
     "metadata": {},
     "output_type": "display_data"
    },
    {
     "data": {
      "application/vnd.jupyter.widget-view+json": {
       "model_id": "06ac60220d194207b3ba6d4fc69d3610",
       "version_major": 2,
       "version_minor": 0
      },
      "text/plain": [
       "Render HTML:   0%|          | 0/1 [00:00<?, ?it/s]"
      ]
     },
     "metadata": {},
     "output_type": "display_data"
    },
    {
     "data": {
      "application/vnd.jupyter.widget-view+json": {
       "model_id": "56e0db8062f445e1ab71b96f152266d1",
       "version_major": 2,
       "version_minor": 0
      },
      "text/plain": [
       "Export report to file:   0%|          | 0/1 [00:00<?, ?it/s]"
      ]
     },
     "metadata": {},
     "output_type": "display_data"
    }
   ],
   "source": [
    "profile = df.profile_report(title=\"Pandas Profiling Report\")\n",
    "\n",
    "profile.to_file(output_file=\"my_profiling_report.html\")"
   ]
  },
  {
   "cell_type": "code",
   "execution_count": null,
   "id": "98c83bcd",
   "metadata": {},
   "outputs": [],
   "source": []
  }
 ],
 "metadata": {
  "kernelspec": {
   "display_name": "Python 3 (ipykernel)",
   "language": "python",
   "name": "python3"
  },
  "language_info": {
   "codemirror_mode": {
    "name": "ipython",
    "version": 3
   },
   "file_extension": ".py",
   "mimetype": "text/x-python",
   "name": "python",
   "nbconvert_exporter": "python",
   "pygments_lexer": "ipython3",
   "version": "3.10.4"
  }
 },
 "nbformat": 4,
 "nbformat_minor": 5
}
